{
 "cells": [
  {
   "cell_type": "code",
   "execution_count": 7,
   "metadata": {},
   "outputs": [
    {
     "name": "stdout",
     "output_type": "stream",
     "text": [
      "Accuracy: 0.8\n",
      "ROC-AUC: 0.8112633181126333\n",
      "Classification Report:\n",
      "               precision    recall  f1-score   support\n",
      "\n",
      "       False       0.73      0.41      0.52        27\n",
      "        True       0.81      0.95      0.87        73\n",
      "\n",
      "    accuracy                           0.80       100\n",
      "   macro avg       0.77      0.68      0.70       100\n",
      "weighted avg       0.79      0.80      0.78       100\n",
      "\n",
      "Feature Importance:\n",
      " CI_Status         0.266399\n",
      "Comments          0.256577\n",
      "Deletions         0.046324\n",
      "Total_Changes    -0.061001\n",
      "Additions        -0.132055\n",
      "Superseded       -0.503228\n",
      "Time_to_Review   -2.086122\n",
      "dtype: float64\n"
     ]
    }
   ],
   "source": [
    "import pandas as pd\n",
    "from sklearn.model_selection import train_test_split\n",
    "from sklearn.preprocessing import StandardScaler, OneHotEncoder\n",
    "from sklearn.compose import ColumnTransformer\n",
    "from sklearn.pipeline import Pipeline\n",
    "from sklearn.linear_model import LogisticRegression\n",
    "from sklearn.metrics import classification_report, roc_auc_score, accuracy_score\n",
    "\n",
    "data = pd.read_csv('pr_metrics.csv')\n",
    "\n",
    "features = ['Time_to_Review', 'Comments', 'Additions', 'Deletions', 'Total_Changes', 'CI_Status', 'Superseded']\n",
    "X = data[features]\n",
    "y = data['Is_Merged']\n",
    "\n",
    "# Preprocessing: Handle categorical variables and scaling\n",
    "preprocessor = ColumnTransformer(\n",
    "    transformers=[\n",
    "        ('num', StandardScaler(), ['Time_to_Review', 'Comments', 'Additions', 'Deletions', 'Total_Changes', 'CI_Status', 'Superseded']),\n",
    "    ])\n",
    "\n",
    "# Create a pipeline\n",
    "pipeline = Pipeline(steps=[\n",
    "    ('preprocessor', preprocessor),\n",
    "    ('classifier', LogisticRegression(max_iter=1000))\n",
    "])\n",
    "\n",
    "X_train, X_test, y_train, y_test = train_test_split(X, y, test_size=0.2, random_state=42)\n",
    "\n",
    "pipeline.fit(X_train, y_train)\n",
    "\n",
    "y_pred = pipeline.predict(X_test)\n",
    "y_pred_proba = pipeline.predict_proba(X_test)[:, 1]\n",
    "\n",
    "print(\"Accuracy:\", accuracy_score(y_test, y_pred))\n",
    "print(\"ROC-AUC:\", roc_auc_score(y_test, y_pred_proba))\n",
    "print(\"Classification Report:\\n\", classification_report(y_test, y_pred))\n",
    "\n",
    "model = pipeline.named_steps['classifier']\n",
    "if hasattr(model, 'coef_'):\n",
    "    feature_names = pipeline.named_steps['preprocessor'].transformers_[0][2]\n",
    "    feature_importance = pd.Series(model.coef_[0], index=feature_names).sort_values(ascending=False)\n",
    "    print(\"Feature Importance:\\n\", feature_importance)\n",
    "    "
   ]
  },
  {
   "cell_type": "code",
   "execution_count": null,
   "metadata": {},
   "outputs": [],
   "source": []
  }
 ],
 "metadata": {
  "kernelspec": {
   "display_name": "env",
   "language": "python",
   "name": "python3"
  },
  "language_info": {
   "codemirror_mode": {
    "name": "ipython",
    "version": 3
   },
   "file_extension": ".py",
   "mimetype": "text/x-python",
   "name": "python",
   "nbconvert_exporter": "python",
   "pygments_lexer": "ipython3",
   "version": "3.12.0"
  }
 },
 "nbformat": 4,
 "nbformat_minor": 2
}
